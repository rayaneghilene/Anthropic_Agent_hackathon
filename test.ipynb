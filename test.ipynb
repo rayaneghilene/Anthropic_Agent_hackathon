{
 "cells": [
  {
   "cell_type": "markdown",
   "metadata": {},
   "source": [
    "# Entity recognition using Nu-Extract NER models"
   ]
  },
  {
   "cell_type": "code",
   "execution_count": 1,
   "metadata": {},
   "outputs": [
    {
     "name": "stderr",
     "output_type": "stream",
     "text": [
      "/Users/rayaneghilene/Documents/Anthropic_Hackathon/hackathon/lib/python3.11/site-packages/tqdm/auto.py:21: TqdmWarning: IProgress not found. Please update jupyter and ipywidgets. See https://ipywidgets.readthedocs.io/en/stable/user_install.html\n",
      "  from .autonotebook import tqdm as notebook_tqdm\n"
     ]
    },
    {
     "name": "stdout",
     "output_type": "stream",
     "text": [
      "Using device: cpu\n"
     ]
    },
    {
     "data": {
      "text/plain": [
       "Qwen2ForCausalLM(\n",
       "  (model): Qwen2Model(\n",
       "    (embed_tokens): Embedding(151936, 1024)\n",
       "    (layers): ModuleList(\n",
       "      (0-23): 24 x Qwen2DecoderLayer(\n",
       "        (self_attn): Qwen2Attention(\n",
       "          (q_proj): Linear(in_features=1024, out_features=1024, bias=True)\n",
       "          (k_proj): Linear(in_features=1024, out_features=1024, bias=True)\n",
       "          (v_proj): Linear(in_features=1024, out_features=1024, bias=True)\n",
       "          (o_proj): Linear(in_features=1024, out_features=1024, bias=False)\n",
       "        )\n",
       "        (mlp): Qwen2MLP(\n",
       "          (gate_proj): Linear(in_features=1024, out_features=2816, bias=False)\n",
       "          (up_proj): Linear(in_features=1024, out_features=2816, bias=False)\n",
       "          (down_proj): Linear(in_features=2816, out_features=1024, bias=False)\n",
       "          (act_fn): SiLU()\n",
       "        )\n",
       "        (input_layernorm): Qwen2RMSNorm((1024,), eps=1e-06)\n",
       "        (post_attention_layernorm): Qwen2RMSNorm((1024,), eps=1e-06)\n",
       "      )\n",
       "    )\n",
       "    (norm): Qwen2RMSNorm((1024,), eps=1e-06)\n",
       "    (rotary_emb): Qwen2RotaryEmbedding()\n",
       "  )\n",
       "  (lm_head): Linear(in_features=1024, out_features=151936, bias=False)\n",
       ")"
      ]
     },
     "execution_count": 1,
     "metadata": {},
     "output_type": "execute_result"
    }
   ],
   "source": [
    "import json, torch\n",
    "from transformers import AutoModelForCausalLM, AutoTokenizer\n",
    "\n",
    "device = torch.device('cuda' if torch.cuda.is_available() else 'cpu')\n",
    "print('Using device:', device)\n",
    "\n",
    "def predict_NuExtract(model, tokenizer, text, schema, example=[\"\",\"\",\"\"]):\n",
    "    schema = json.dumps(json.loads(schema), indent=4)\n",
    "    input_llm =  \"<|input|>\\n### Template:\\n\" +  schema + \"\\n\"\n",
    "    for i in example:\n",
    "      if i != \"\":\n",
    "          input_llm += \"### Example:\\n\"+ json.dumps(json.loads(i), indent=4)+\"\\n\"\n",
    "\n",
    "    input_llm +=  \"### Text:\\n\"+text +\"\\n<|output|>\\n\"\n",
    "    input_ids = tokenizer(input_llm, return_tensors=\"pt\", truncation=True, max_length=4000).to(device)\n",
    "\n",
    "    output = tokenizer.decode(model.generate(**input_ids)[0], skip_special_tokens=True)\n",
    "    return output.split(\"<|output|>\")[1].split(\"<|end-output|>\")[0]\n",
    "\n",
    "# Uncomment the following section if you wish to use the Tiny model (0.5B)\n",
    "model = AutoModelForCausalLM.from_pretrained(\"numind/NuExtract-tiny\", trust_remote_code=True)\n",
    "tokenizer = AutoTokenizer.from_pretrained(\"numind/NuExtract-tiny\", trust_remote_code=True)\n",
    "\n",
    "# ## The following model is the 3.7B version\n",
    "# model = AutoModelForCausalLM.from_pretrained(\"numind/NuExtract\", torch_dtype=torch.bfloat16, trust_remote_code=True)\n",
    "# tokenizer = AutoTokenizer.from_pretrained(\"numind/NuExtract\", trust_remote_code=True)\n",
    "\n",
    "model.to(device)\n",
    "model.eval()"
   ]
  },
  {
   "cell_type": "code",
   "execution_count": 7,
   "metadata": {},
   "outputs": [
    {
     "name": "stderr",
     "output_type": "stream",
     "text": [
      "Setting `pad_token_id` to `eos_token_id`:151646 for open-end generation.\n"
     ]
    },
    {
     "name": "stdout",
     "output_type": "stream",
     "text": [
      "\n",
      "{\n",
      "    \"Age\": [\n",
      "        \"23\"\n",
      "    ],\n",
      "    \"Names\": [\n",
      "        \"rayan\"\n",
      "    ],\n",
      "    \"specialization\": [\n",
      "        \"neuroscience\"\n",
      "    ],\n",
      "    \"Topics\": [\n",
      "        \"Sensory systems\",\n",
      "        \"the brain\"\n",
      "    ],\n",
      "    \"Hobbies\": [\n",
      "        \"running\",\n",
      "        \"swimming\"\n",
      "    ],\n",
      "    \"preffered way of learning\": [\n",
      "        \"diagrams\",\n",
      "        \"videos\"\n",
      "    ]\n",
      "}\n",
      "\n"
     ]
    }
   ],
   "source": [
    "text = \"\"\"Hi my name is rayan I'm 23 and specialize in neuroscience and I'm into running and swimming I want to learn about Sensory systems and the brain an my preffered way of learning is through diagrams and videos\"\"\"\n",
    "\n",
    "schema = \"\"\"{ \n",
    "    \"Age\": [],\n",
    "    \"Names\": [],\n",
    "    \"specialization\": [],\n",
    "    \"Topics\": [],\n",
    "    \"Hobbies\": [],\n",
    "    \"preffered way of learning\": []\n",
    "}\"\"\"\n",
    "\n",
    "prediction = predict_NuExtract(model, tokenizer, text, schema, example=[\"\",\"\",\"\"])\n",
    "print(prediction)"
   ]
  },
  {
   "cell_type": "markdown",
   "metadata": {},
   "source": [
    "## LLM Inference"
   ]
  },
  {
   "cell_type": "code",
   "execution_count": null,
   "metadata": {},
   "outputs": [],
   "source": []
  }
 ],
 "metadata": {
  "kernelspec": {
   "display_name": "hackathon",
   "language": "python",
   "name": "python3"
  },
  "language_info": {
   "codemirror_mode": {
    "name": "ipython",
    "version": 3
   },
   "file_extension": ".py",
   "mimetype": "text/x-python",
   "name": "python",
   "nbconvert_exporter": "python",
   "pygments_lexer": "ipython3",
   "version": "3.11.0"
  }
 },
 "nbformat": 4,
 "nbformat_minor": 2
}
